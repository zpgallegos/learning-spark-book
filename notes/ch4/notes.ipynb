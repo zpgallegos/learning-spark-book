{
 "cells": [
  {
   "cell_type": "code",
   "execution_count": 1,
   "metadata": {},
   "outputs": [
    {
     "name": "stderr",
     "output_type": "stream",
     "text": [
      "Using Spark's default log4j profile: org/apache/spark/log4j-defaults.properties\n",
      "Setting default log level to \"WARN\".\n",
      "To adjust logging level use sc.setLogLevel(newLevel). For SparkR, use setLogLevel(newLevel).\n",
      "23/01/08 18:35:23 WARN NativeCodeLoader: Unable to load native-hadoop library for your platform... using builtin-java classes where applicable\n"
     ]
    }
   ],
   "source": [
    "from pyspark.sql import SparkSession\n",
    "from pyspark.sql import functions as F\n",
    "\n",
    "spark = SparkSession.builder.appName(\"ch4\").getOrCreate()\n",
    "spark.sparkContext.setLogLevel(\"WARN\")"
   ]
  },
  {
   "cell_type": "code",
   "execution_count": 2,
   "metadata": {},
   "outputs": [
    {
     "name": "stdout",
     "output_type": "stream",
     "text": [
      "root\n",
      " |-- date: string (nullable = true)\n",
      " |-- delay: integer (nullable = true)\n",
      " |-- distance: integer (nullable = true)\n",
      " |-- origin: string (nullable = true)\n",
      " |-- destination: string (nullable = true)\n",
      "\n"
     ]
    }
   ],
   "source": [
    "file = \"../../LearningSparkV2/databricks-datasets/learning-spark-v2/flights/departuredelays.csv\"\n",
    "\n",
    "schema = (\n",
    "    \"`date` STRING,\"\n",
    "    \"`delay` INT,\"\n",
    "    \"`distance` INT,\"\n",
    "    \"`origin` STRING,\"\n",
    "    \"`destination` STRING\"\n",
    ")\n",
    "\n",
    "df = spark.read.format(\"csv\").option(\"header\", \"true\").schema(schema).load(file)\n",
    "df.createOrReplaceTempView(\"us_delay_flights_tbl\")\n",
    "\n",
    "df.printSchema()\n"
   ]
  },
  {
   "cell_type": "code",
   "execution_count": 3,
   "metadata": {},
   "outputs": [
    {
     "name": "stderr",
     "output_type": "stream",
     "text": [
      "[Stage 0:>                                                          (0 + 8) / 8]\r"
     ]
    },
    {
     "name": "stdout",
     "output_type": "stream",
     "text": [
      "+--------+------+-----------+\n",
      "|distance|origin|destination|\n",
      "+--------+------+-----------+\n",
      "|4330    |HNL   |JFK        |\n",
      "|4330    |HNL   |JFK        |\n",
      "|4330    |HNL   |JFK        |\n",
      "|4330    |HNL   |JFK        |\n",
      "|4330    |HNL   |JFK        |\n",
      "|4330    |HNL   |JFK        |\n",
      "|4330    |HNL   |JFK        |\n",
      "|4330    |HNL   |JFK        |\n",
      "|4330    |HNL   |JFK        |\n",
      "|4330    |HNL   |JFK        |\n",
      "+--------+------+-----------+\n",
      "only showing top 10 rows\n",
      "\n"
     ]
    },
    {
     "name": "stderr",
     "output_type": "stream",
     "text": [
      "                                                                                \r"
     ]
    }
   ],
   "source": [
    "qry = \"\"\"\n",
    "select distance, origin, destination\n",
    "from us_delay_flights_tbl\n",
    "where distance > 1000\n",
    "order by distance desc\n",
    "\"\"\"\n",
    "\n",
    "spark.sql(qry).show(10, truncate=False)"
   ]
  },
  {
   "cell_type": "code",
   "execution_count": 4,
   "metadata": {},
   "outputs": [
    {
     "name": "stdout",
     "output_type": "stream",
     "text": [
      "+--------+------+-----------+\n",
      "|distance|origin|destination|\n",
      "+--------+------+-----------+\n",
      "|4330    |HNL   |JFK        |\n",
      "|4330    |HNL   |JFK        |\n",
      "|4330    |HNL   |JFK        |\n",
      "|4330    |HNL   |JFK        |\n",
      "|4330    |HNL   |JFK        |\n",
      "|4330    |HNL   |JFK        |\n",
      "|4330    |HNL   |JFK        |\n",
      "|4330    |HNL   |JFK        |\n",
      "|4330    |HNL   |JFK        |\n",
      "|4330    |HNL   |JFK        |\n",
      "+--------+------+-----------+\n",
      "only showing top 10 rows\n",
      "\n"
     ]
    }
   ],
   "source": [
    "df.select(\"distance\", \"origin\", \"destination\").where(F.col(\"distance\") > 1000).orderBy(\n",
    "    F.desc(\"distance\")\n",
    ").show(10, truncate=False)"
   ]
  },
  {
   "cell_type": "code",
   "execution_count": 5,
   "metadata": {},
   "outputs": [
    {
     "name": "stderr",
     "output_type": "stream",
     "text": [
      "[Stage 2:>                                                          (0 + 8) / 8]\r"
     ]
    },
    {
     "name": "stdout",
     "output_type": "stream",
     "text": [
      "+-----+---+------------------+\n",
      "|month|day|avg_delay         |\n",
      "+-----+---+------------------+\n",
      "|01   |04 |37.52043085476025 |\n",
      "|01   |05 |37.04616558565433 |\n",
      "|01   |03 |34.90262760495319 |\n",
      "|01   |06 |33.18830573715403 |\n",
      "|01   |02 |31.266602094557783|\n",
      "|02   |21 |27.702819560319103|\n",
      "|01   |07 |25.374344333045613|\n",
      "|03   |29 |21.36448664352016 |\n",
      "|02   |06 |21.299418971832765|\n",
      "|01   |08 |20.21732283464567 |\n",
      "|02   |14 |19.978383629850022|\n",
      "|01   |01 |19.966420849144413|\n",
      "|01   |30 |19.453478096199976|\n",
      "|01   |11 |17.438488430164806|\n",
      "|02   |03 |16.91670367315866 |\n",
      "|01   |10 |16.431458976135005|\n",
      "|03   |01 |16.28876178698408 |\n",
      "|03   |02 |15.88726473061251 |\n",
      "|03   |17 |15.799988157972646|\n",
      "|02   |05 |15.572676518883416|\n",
      "+-----+---+------------------+\n",
      "only showing top 20 rows\n",
      "\n"
     ]
    },
    {
     "name": "stderr",
     "output_type": "stream",
     "text": [
      "                                                                                \r"
     ]
    }
   ],
   "source": [
    "qry = \"\"\"\n",
    "select * from (\n",
    "    select\n",
    "        substr(date, 0, 2) as month,\n",
    "        substr(date, 3, 2) as day,\n",
    "        avg(delay) as avg_delay\n",
    "\n",
    "    from us_delay_flights_tbl\n",
    "    group by month, day\n",
    ") s order by avg_delay desc\n",
    "\"\"\"\n",
    "\n",
    "spark.sql(qry).show(20, truncate=False)"
   ]
  },
  {
   "cell_type": "code",
   "execution_count": 6,
   "metadata": {},
   "outputs": [
    {
     "name": "stderr",
     "output_type": "stream",
     "text": [
      "[Stage 5:>                                                          (0 + 8) / 8]\r"
     ]
    },
    {
     "name": "stdout",
     "output_type": "stream",
     "text": [
      "+-----+---+------------------+---------+---------+\n",
      "|month|day|avg_delay         |min_delay|max_delay|\n",
      "+-----+---+------------------+---------+---------+\n",
      "|01   |04 |37.52043085476025 |-27      |1159     |\n",
      "|01   |05 |37.04616558565433 |-25      |1461     |\n",
      "|01   |03 |34.90262760495319 |-85      |1167     |\n",
      "|01   |06 |33.18830573715403 |-44      |1054     |\n",
      "|01   |02 |31.266602094557783|-42      |1321     |\n",
      "|02   |21 |27.702819560319103|-46      |1511     |\n",
      "|01   |07 |25.374344333045613|-42      |1149     |\n",
      "|03   |29 |21.36448664352016 |-29      |908      |\n",
      "|02   |06 |21.299418971832765|-39      |822      |\n",
      "|01   |08 |20.21732283464567 |-35      |1024     |\n",
      "|02   |14 |19.978383629850022|-41      |967      |\n",
      "|01   |01 |19.966420849144413|-28      |1191     |\n",
      "|01   |30 |19.453478096199976|-40      |1500     |\n",
      "|01   |11 |17.438488430164806|-42      |1404     |\n",
      "|02   |03 |16.91670367315866 |-39      |1417     |\n",
      "|01   |10 |16.431458976135005|-32      |1180     |\n",
      "|03   |01 |16.28876178698408 |-36      |639      |\n",
      "|03   |02 |15.88726473061251 |-32      |1592     |\n",
      "|03   |17 |15.799988157972646|-30      |798      |\n",
      "|02   |05 |15.572676518883416|-45      |1418     |\n",
      "+-----+---+------------------+---------+---------+\n",
      "only showing top 20 rows\n",
      "\n"
     ]
    },
    {
     "name": "stderr",
     "output_type": "stream",
     "text": [
      "                                                                                \r"
     ]
    },
    {
     "data": {
      "text/plain": [
       "(None,)"
      ]
     },
     "execution_count": 6,
     "metadata": {},
     "output_type": "execute_result"
    }
   ],
   "source": [
    "(\n",
    "    df.select(\n",
    "        F.substring(\"date\", 0, 2).alias(\"month\"),\n",
    "        F.substring(\"date\", 3, 2).alias(\"day\"),\n",
    "        \"delay\",\n",
    "    )\n",
    "    .groupBy(\"month\", \"day\")\n",
    "    .agg(\n",
    "        F.avg(\"delay\").alias(\"avg_delay\"),\n",
    "        F.min(\"delay\").alias(\"min_delay\"),\n",
    "        F.max(\"delay\").alias(\"max_delay\"),\n",
    "    )\n",
    "    .alias(\"max_delay\")\n",
    "    .orderBy(\"avg_delay\", ascending=False)\n",
    "    .show(20, truncate=False),\n",
    ")"
   ]
  },
  {
   "cell_type": "code",
   "execution_count": 7,
   "metadata": {},
   "outputs": [
    {
     "data": {
      "text/plain": [
       "DataFrame[]"
      ]
     },
     "execution_count": 7,
     "metadata": {},
     "output_type": "execute_result"
    }
   ],
   "source": [
    "spark.sql(\"create database learn_spark_db\")\n",
    "spark.sql(\"use learn_spark_db\")"
   ]
  },
  {
   "cell_type": "code",
   "execution_count": 12,
   "metadata": {},
   "outputs": [
    {
     "name": "stderr",
     "output_type": "stream",
     "text": [
      "23/01/08 19:18:34 WARN MemoryManager: Total allocation exceeds 95.00% (971,243,508 bytes) of heap memory\n",
      "Scaling row group sizes to 90.45% for 8 writers\n",
      "                                                                                \r"
     ]
    }
   ],
   "source": [
    "df.write.saveAsTable(\"managed_us_delay_flights\")"
   ]
  },
  {
   "cell_type": "code",
   "execution_count": 14,
   "metadata": {},
   "outputs": [
    {
     "name": "stdout",
     "output_type": "stream",
     "text": [
      "+--------+-----+--------+------+-----------+\n",
      "|date    |delay|distance|origin|destination|\n",
      "+--------+-----+--------+------+-----------+\n",
      "|01011250|55   |2247    |SFO   |JFK        |\n",
      "|01012230|0    |2247    |SFO   |JFK        |\n",
      "|01010705|-7   |2247    |SFO   |JFK        |\n",
      "|01010620|-3   |2246    |SFO   |MIA        |\n",
      "|01010915|-3   |293     |SFO   |LAX        |\n",
      "|01011005|-8   |1273    |SFO   |DFW        |\n",
      "|01011800|0    |1604    |SFO   |ORD        |\n",
      "|01011740|-7   |293     |SFO   |LAX        |\n",
      "|01012015|-7   |293     |SFO   |LAX        |\n",
      "|01012110|-1   |2246    |SFO   |MIA        |\n",
      "+--------+-----+--------+------+-----------+\n",
      "only showing top 10 rows\n",
      "\n"
     ]
    }
   ],
   "source": [
    "# creates a view\n",
    "df_sfo = spark.sql(\"select * from managed_us_delay_flights where origin = 'SFO'\")\n",
    "\n",
    "df_sfo.createOrReplaceGlobalTempView(\"us_origin_airport_sfo_global_tmp_view\")\n",
    "\n",
    "spark.read.table(\"global_temp.us_origin_airport_sfo_global_tmp_view\").show(10, truncate=False)\n",
    "\n",
    "# same as:\n",
    "qry = \"\"\"\n",
    "create or replace global temp view us_origin_airport_sfo_global_tmp_view as\n",
    "    select * from managed_us_delay_flights where origin = 'SFO';\n",
    "\"\"\"\n",
    "\n",
    "# temporary view is tied to a single SparkSession\n",
    "# global temporary view is visible to all sessions"
   ]
  }
 ],
 "metadata": {
  "kernelspec": {
   "display_name": "spark",
   "language": "python",
   "name": "python3"
  },
  "language_info": {
   "codemirror_mode": {
    "name": "ipython",
    "version": 3
   },
   "file_extension": ".py",
   "mimetype": "text/x-python",
   "name": "python",
   "nbconvert_exporter": "python",
   "pygments_lexer": "ipython3",
   "version": "3.10.8"
  },
  "orig_nbformat": 4,
  "vscode": {
   "interpreter": {
    "hash": "5440532f377db93e207aecc4b7a75f6e4ef98bea116781be8525636e90b588a7"
   }
  }
 },
 "nbformat": 4,
 "nbformat_minor": 2
}
